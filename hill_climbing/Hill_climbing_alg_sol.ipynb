{
  "nbformat": 4,
  "nbformat_minor": 0,
  "metadata": {
    "colab": {
      "provenance": []
    },
    "kernelspec": {
      "name": "python3",
      "display_name": "Python 3"
    },
    "language_info": {
      "name": "python"
    }
  },
  "cells": [
    {
      "cell_type": "code",
      "execution_count": 56,
      "metadata": {
        "id": "AUHpaawsoiuc"
      },
      "outputs": [],
      "source": [
        "#this code is run on colab\n",
        "import random\n",
        "import matplotlib.pyplot as plt"
      ]
    },
    {
      "cell_type": "code",
      "source": [
        "!cp \"/content/drive/MyDrive/P06_c.txt\" \"./\"\n",
        "!cp \"/content/drive/MyDrive/P06_p.txt\" \"./\"\n",
        "!cp \"/content/drive/MyDrive/P06_w.txt\" \"./\""
      ],
      "metadata": {
        "id": "lGCzfv__I6Ht"
      },
      "execution_count": 2,
      "outputs": []
    },
    {
      "cell_type": "code",
      "source": [
        "f=open(\"./P06_p.txt\")\n",
        "\n",
        "exprofit=f.read().splitlines()\n",
        "exprofit=[int(x) for x in exprofit]\n",
        "f.close()"
      ],
      "metadata": {
        "id": "dOzG_-ZBLqvP"
      },
      "execution_count": 5,
      "outputs": []
    },
    {
      "cell_type": "code",
      "source": [
        "f=open(\"./P06_w.txt\")\n",
        "exweight=f.read().splitlines()\n",
        "exweight=[int(x) for x in exweight]\n",
        "f.close()"
      ],
      "metadata": {
        "id": "guknWK20z_H5"
      },
      "execution_count": 6,
      "outputs": []
    },
    {
      "cell_type": "code",
      "source": [
        "f=open(\"./P06_c.txt\")\n",
        "excapcity=f.read().splitlines()\n",
        "excapcity=int(excapcity[0])\n",
        "f.close()"
      ],
      "metadata": {
        "id": "BCWw6zRe0KZb"
      },
      "execution_count": 7,
      "outputs": []
    },
    {
      "cell_type": "code",
      "source": [
        "#indivual_list here is [0/1] list for an indivual, this function restrain x in domain f=[0,capcity] to return result(profit sum), or it will return 0 for this problem is maximum problem\n",
        "def knapsack_func_sign_extend(indivual_list,cap,profit,weight):\n",
        "  vsum=0\n",
        "  wsum=0\n",
        "  for i in range(0,len(indivual_list)):\n",
        "    if indivual_list[i]==1:\n",
        "      vsum+=profit[i]\n",
        "      wsum+=weight[i]\n",
        "  if wsum>cap:\n",
        "    return 0\n",
        "  else :\n",
        "    return vsum\n",
        "\n",
        "\n"
      ],
      "metadata": {
        "id": "9pKQ9a6rtRWy"
      },
      "execution_count": 8,
      "outputs": []
    },
    {
      "cell_type": "code",
      "source": [
        "#profit,weight are list read from txt, this code will randomly generate a fucton value>0 solution\n",
        "def random_generattion(cap,profit,weight):\n",
        "  a=[random.randint(0,1) for i in range(0,len(profit))]\n",
        "  while knapsack_func_sign_extend(a,cap,profit,weight)==0:\n",
        "    a=[random.randint(0,1) for i in range(0,len(profit))]\n",
        "  return a\n",
        "\n"
      ],
      "metadata": {
        "id": "dPPK-oLJOb3y"
      },
      "execution_count": 9,
      "outputs": []
    },
    {
      "cell_type": "code",
      "source": [
        "#for generate 1 step climbing for current point(define: 1 steps climbing with only 1 position different with current result)\n",
        "def climbing(indivual_list,climb_point):\n",
        "  aa=[]\n",
        "  for i in range(0,len(indivual_list)):\n",
        "    aa.append(indivual_list[i])\n",
        "  if aa[climb_point]==0:\n",
        "    aa[climb_point]=1\n",
        "  else :\n",
        "    aa[climb_point]=0\n",
        "  return aa"
      ],
      "metadata": {
        "id": "HsmDl3JJako-"
      },
      "execution_count": 36,
      "outputs": []
    },
    {
      "cell_type": "code",
      "source": [
        "#for generate all climbing result for current point\n",
        "def neighbor_gen(indivual_list,cap,profit,weight):\n",
        "  new_pop_list=[]\n",
        "  for i in range(0,len(indivual_list)):\n",
        "    a_climb=climbing(indivual_list,i)\n",
        "    new_pop_list.append(a_climb)\n",
        "  new_pop_list=sorted(new_pop_list,reverse=True,key=lambda x: knapsack_func_sign_extend(x,cap,profit,weight))\n",
        "\n",
        "  return new_pop_list\n",
        "\n",
        "\n"
      ],
      "metadata": {
        "id": "gbS0ziQ50lVK"
      },
      "execution_count": 41,
      "outputs": []
    },
    {
      "cell_type": "code",
      "source": [
        "#this run for total number of iterations, each steps except first run:\n",
        " #1.  for current point generate all climb result, sort via function value\n",
        " #2.  compare largest function value solution's function value with best_solution among test solution\n",
        " #3.  if this climbing generate better result, we update it as best_solution\n",
        " #4.  to keep from stuck in local maxima, we choose random start strategy, in each turn, if a random value is smaller than random_start_rate(here=0.4) we random choose a point as next iteration's start point\n",
        "def random_start_climb(iter_num,cap,profit,weight,random_rate):\n",
        "\n",
        "  opt_sol=random_generattion(cap,profit,weight)\n",
        "  best_recored=[knapsack_func_sign_extend(opt_sol,cap,profit,weight)]\n",
        "  best_sol_list=[opt_sol]\n",
        "  for i in range(0,iter_num-1):\n",
        "    how_climb=neighbor_gen(opt_sol,cap,profit,weight)\n",
        "    if knapsack_func_sign_extend(how_climb[0],cap,profit,weight) >= knapsack_func_sign_extend(best_sol_list[i],cap,profit,weight):\n",
        "      best_sol_list.append(how_climb[0])\n",
        "      best_recored.append(knapsack_func_sign_extend(how_climb[0],cap,profit,weight))\n",
        "    else :\n",
        "      best_sol_list.append(best_sol_list[i])\n",
        "      best_recored.append(knapsack_func_sign_extend(best_sol_list[i],cap,profit,weight))\n",
        "    if random_rate>random.random():\n",
        "      opt_sol=random_generattion(cap,profit,weight)\n",
        "    else:\n",
        "      opt_sol=best_sol_list[i+1]\n",
        "\n",
        "\n",
        "\n",
        "  tot_sol_list=[best_recored[len(best_recored)-1],best_recored,best_sol_list]\n",
        "  return tot_sol_list\n",
        "\n",
        ""
      ],
      "metadata": {
        "id": "bYTMsooQdrlh"
      },
      "execution_count": 53,
      "outputs": []
    },
    {
      "cell_type": "code",
      "source": [
        "anss=random_start_climb(100,170,exprofit,exweight,0.4)"
      ],
      "metadata": {
        "id": "isUvqqf_lxax"
      },
      "execution_count": 54,
      "outputs": []
    },
    {
      "cell_type": "code",
      "source": [
        "anss[1]"
      ],
      "metadata": {
        "id": "Ca7ffSU8mKMD"
      },
      "execution_count": null,
      "outputs": []
    },
    {
      "cell_type": "code",
      "source": [
        "plt.plot(anss[1])\n",
        "plt.title(\"hill_climbing_result\")\n",
        "plt.xlabel(\"iterations\")\n",
        "plt.ylabel(\"profit\")"
      ],
      "metadata": {
        "colab": {
          "base_uri": "https://localhost:8080/",
          "height": 489
        },
        "id": "qRuG4GvB1lQw",
        "outputId": "bddc40a7-f2c3-47a6-dff2-a24c681ecd3c"
      },
      "execution_count": 59,
      "outputs": [
        {
          "output_type": "execute_result",
          "data": {
            "text/plain": [
              "Text(0, 0.5, 'profit')"
            ]
          },
          "metadata": {},
          "execution_count": 59
        },
        {
          "output_type": "display_data",
          "data": {
            "text/plain": [
              "<Figure size 640x480 with 1 Axes>"
            ],
            "image/png": "[encoded data removed]"
          },
          "metadata": {}
        }
      ]
    }
  ]
}