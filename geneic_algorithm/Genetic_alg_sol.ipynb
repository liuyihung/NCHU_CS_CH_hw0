{
  "nbformat": 4,
  "nbformat_minor": 0,
  "metadata": {
    "colab": {
      "provenance": []
    },
    "kernelspec": {
      "name": "python3",
      "display_name": "Python 3"
    },
    "language_info": {
      "name": "python"
    }
  },
  "cells": [
    {
      "cell_type": "code",
      "execution_count": 2,
      "metadata": {
        "id": "AUHpaawsoiuc"
      },
      "outputs": [],
      "source": [
        "import random"
      ]
    },
    {
      "cell_type": "code",
      "source": [
        "!cp \"/content/drive/MyDrive/P06_c.txt\" \"./\"\n",
        "!cp \"/content/drive/MyDrive/P06_p.txt\" \"./\"\n",
        "!cp \"/content/drive/MyDrive/P06_w.txt\" \"./\"\n",
        "import matplotlib.pyplot as plt"
      ],
      "metadata": {
        "id": "lGCzfv__I6Ht"
      },
      "execution_count": 61,
      "outputs": []
    },
    {
      "cell_type": "code",
      "source": [
        "f=open(\"./P06_p.txt\")\n",
        "\n",
        "exprofit=f.read().splitlines()\n",
        "exprofit=[int(x) for x in exprofit]\n",
        "f.close()"
      ],
      "metadata": {
        "id": "dOzG_-ZBLqvP"
      },
      "execution_count": 3,
      "outputs": []
    },
    {
      "cell_type": "code",
      "source": [
        "f=open(\"./P06_w.txt\")\n",
        "exweight=f.read().splitlines()\n",
        "exweight=[int(x) for x in exweight]\n",
        "f.close()"
      ],
      "metadata": {
        "id": "guknWK20z_H5"
      },
      "execution_count": 4,
      "outputs": []
    },
    {
      "cell_type": "code",
      "source": [
        "f=open(\"./P06_c.txt\")\n",
        "excapcity=f.read().splitlines()\n",
        "excapcity=int(excapcity[0])\n",
        "f.close()"
      ],
      "metadata": {
        "id": "BCWw6zRe0KZb"
      },
      "execution_count": 5,
      "outputs": []
    },
    {
      "cell_type": "code",
      "source": [
        "#indivual_list here is [0/1] list for an indivual this function restrain x in domain f=[0,capcity] to return result(profit sum), or it will return 0 for this problem is maximum problem\n",
        "def knapsack_func_sign_extend(indivual_list,cap,profit,weight):\n",
        "  vsum=0\n",
        "  wsum=0\n",
        "  for i in range(0,len(indivual_list)):\n",
        "    if indivual_list[i]==1:\n",
        "      vsum+=profit[i]\n",
        "      wsum+=weight[i]\n",
        "  if wsum>cap:\n",
        "    return 0\n",
        "  else :\n",
        "    return vsum\n",
        "\n",
        "\n"
      ],
      "metadata": {
        "id": "9pKQ9a6rtRWy"
      },
      "execution_count": 6,
      "outputs": []
    },
    {
      "cell_type": "code",
      "source": [
        "#profit,weight are list read from txt, this code will randomly generate a fucton value>0 solution\n",
        "def random_generattion(cap,profit,weight):\n",
        "  a=[random.randint(0,1) for i in range(0,len(profit))]\n",
        "  while knapsack_func_sign_extend(a,cap,profit,weight)==0:\n",
        "    a=[random.randint(0,1) for i in range(0,len(profit))]\n",
        "  return a\n",
        "\n"
      ],
      "metadata": {
        "id": "dPPK-oLJOb3y"
      },
      "execution_count": 7,
      "outputs": []
    },
    {
      "cell_type": "code",
      "source": [
        "#pop_num指定return 的population list[[0/1],[0/1],...]的長度 每個其中的[0/1]為indivual\n",
        "def random_population_gen(pop_num,cap,profit,weight):\n",
        "  pol=[]\n",
        "  #print(type(pop_num))\n",
        "  for i in range(0,pop_num):\n",
        "    pol.append(random_generattion(cap,profit,weight))\n",
        "  return pol\n"
      ],
      "metadata": {
        "id": "FktWne85QV4o"
      },
      "execution_count": 8,
      "outputs": []
    },
    {
      "cell_type": "code",
      "source": [
        "#indivual_list here is [0/1] list for an indivual, for keep from stuck in local maxima\n",
        "def point_mutation(indivual_list):\n",
        "  mut_point=random.randint(0,len(indivual_list)-1)\n",
        "  if indivual_list[mut_point]==0:\n",
        "    indivual_list[mut_point]=1\n",
        "  else :\n",
        "    indivual_list[mut_point]=0\n",
        "  return indivual_list\n"
      ],
      "metadata": {
        "id": "4qJm5iDsbIkQ"
      },
      "execution_count": 9,
      "outputs": []
    },
    {
      "cell_type": "code",
      "source": [
        "#parent_a/b is [0/1] list  for indivual return also [0/1]  for indivual  , for keep from stuck in local maxima\n",
        "#this function is for randomly choose 1 chromosome(here, 1 item is choose or not) add from randomly one parent\n",
        "def uniform_cross_over(parent_a,parent_b):\n",
        "  uni_mask=[random.randint(0,1) for i in range(0,len(parent_a))]\n",
        "  child=[]\n",
        "  for i in range(0,len(parent_a)):\n",
        "    if uni_mask[i]==1:\n",
        "      child.append(parent_a[i])\n",
        "    else :\n",
        "      child.append(parent_b[i])\n",
        "  return child\n",
        "\n",
        "\n",
        "\n",
        "\n"
      ],
      "metadata": {
        "id": "IiklYh2Fch2F"
      },
      "execution_count": 69,
      "outputs": []
    },
    {
      "cell_type": "code",
      "source": [
        "#parents_set=由selection_fit給出的經過selection的優等parent 為一[[0/1],[0/1],...] list 每個其中的[0/1]為indivual\n",
        "#just choose two more stronger(each parent at least better than one indivual in parent set)\n",
        "def chose_parent_power(parents_set,cap,profit,weight):\n",
        "  parent_candidate1_indx=random.randint(0,len(parents_set)-1)\n",
        "  parent_candidate2_indx=random.randint(0,len(parents_set)-1)\n",
        "  if knapsack_func_sign_extend(parents_set[parent_candidate1_indx],cap,profit,weight)>knapsack_func_sign_extend(parents_set[parent_candidate2_indx],cap,profit,weight):\n",
        "    return parents_set[parent_candidate1_indx]\n",
        "  else:\n",
        "    return parents_set[parent_candidate2_indx]\n"
      ],
      "metadata": {
        "id": "FvvbjfeH1WsY"
      },
      "execution_count": 70,
      "outputs": []
    },
    {
      "cell_type": "code",
      "source": [
        "#now: prof_list 為一[[0/1],[0/1],...] list 每個其中的[0/1]為indivual\n",
        "# 1. pick indivuals(solution) with higher return value as passing selection\n",
        "# 2. randomly decide whether some weaker indivuals(solution) to pass the selection to merge into parent list\n",
        "def adjust_selection_fit(prof_list,pop_num,elite_prob,for_comp_prob,cap,profit,weight):\n",
        "  a=sorted(prof_list,key=lambda x: knapsack_func_sign_extend(x,cap,profit,weight))\n",
        "  el=int(elite_prob*len(prof_list))\n",
        "  eli_a=a[:el]\n",
        "  comp_a=a[el:]\n",
        "  for i in comp_a:\n",
        "    if for_comp_prob>random.random():\n",
        "      eli_a.append(i)\n",
        "  return eli_a\n",
        "\n"
      ],
      "metadata": {
        "id": "gp1_FJm0nr6Y"
      },
      "execution_count": 71,
      "outputs": []
    },
    {
      "cell_type": "code",
      "source": [
        "#1. pick possible parent set\n",
        "#2. randomly chose parent from parent set to crossover, and random decide whether need mutation\n",
        "def generation_produce(parents_set,cap,profit,pop_num,weight,muta_prob,elite_prob,for_comp_prob):\n",
        "  selected_set=adjust_selection_fit(parents_set,pop_num,elite_prob,for_comp_prob,cap,profit,weight)\n",
        "\n",
        "  need_offspring=len(parents_set)-len(selected_set)\n",
        "  next_gen=[]\n",
        "\n",
        "  while need_offspring>len(next_gen):\n",
        "    parent_1=chose_parent_power(parents_set,cap,profit,weight)\n",
        "    parent_2=chose_parent_power(parents_set,cap,profit,weight)\n",
        "    chil_d=uniform_cross_over(parent_1,parent_2)\n",
        "    if muta_prob>random.random():\n",
        "      chil_d=point_mutation(chil_d)\n",
        "    if knapsack_func_sign_extend(chil_d,cap,profit,weight)>0:\n",
        "      next_gen.append(chil_d)\n",
        "  next_gen.extend(selected_set)\n",
        "  return next_gen\n",
        "\n",
        "\n",
        "\n",
        "\n"
      ],
      "metadata": {
        "id": "305LIgSArUuc"
      },
      "execution_count": 72,
      "outputs": []
    },
    {
      "cell_type": "code",
      "source": [
        "#1. generate 1st generation\n",
        "#2. sort population, compare where this generation's opt sol is better\n",
        "#3. generate new population\n",
        "\n",
        "def genetic_solution(pop_num,cap,profit,weight,geneerations_num,muta_prob,elite_prob,for_comp_prob):\n",
        "\n",
        "  opt_sol=[0]*len(profit)\n",
        "\n",
        "  population=random_population_gen(pop_num,cap,profit,weight)\n",
        "  best_recored=[]\n",
        "  best_sol_list=[]\n",
        "  for i in range(0,geneerations_num-1):\n",
        "    population=sorted(population,reverse=True,key=lambda x: knapsack_func_sign_extend(x,cap,profit,weight))\n",
        "    if knapsack_func_sign_extend(opt_sol,cap,profit,weight)<knapsack_func_sign_extend(population[0],cap,profit,weight):\n",
        "      opt_sol=population[0].copy()\n",
        "    population=generation_produce(population,cap,profit,pop_num,weight,muta_prob,elite_prob,for_comp_prob)\n",
        "    best_recored.append(knapsack_func_sign_extend(opt_sol,cap,profit,weight))\n",
        "    best_sol_list.append(opt_sol)\n",
        "  tot_sol_list=[opt_sol,best_recored,best_sol_list]\n",
        "  return tot_sol_list\n",
        "\n"
      ],
      "metadata": {
        "id": "pJ3WAuSjE_2y"
      },
      "execution_count": 73,
      "outputs": []
    },
    {
      "cell_type": "code",
      "source": [
        "annss=genetic_solution(pop_num=20,cap=170,profit=exprofit,weight=exweight,geneerations_num=100,muta_prob=0.2,elite_prob=0.33,for_comp_prob=0.2)"
      ],
      "metadata": {
        "id": "Fz1qQS4wfO2H"
      },
      "execution_count": 104,
      "outputs": []
    },
    {
      "cell_type": "code",
      "source": [
        "annss[0]"
      ],
      "metadata": {
        "colab": {
          "base_uri": "https://localhost:8080/"
        },
        "id": "z3xjkQqCjq-F",
        "outputId": "0c2791fc-b837-4c33-973c-013b65205d83"
      },
      "execution_count": 102,
      "outputs": [
        {
          "output_type": "execute_result",
          "data": {
            "text/plain": [
              "[0, 1, 0, 1, 0, 0, 1]"
            ]
          },
          "metadata": {},
          "execution_count": 102
        }
      ]
    },
    {
      "cell_type": "code",
      "source": [
        "plt.plot(annss[1])\n",
        "plt.title(\"genetic_algorithm_result\")\n",
        "plt.xlabel(\"iterations\")\n",
        "plt.ylabel(\"profit\")"
      ],
      "metadata": {
        "colab": {
          "base_uri": "https://localhost:8080/",
          "height": 489
        },
        "id": "qRuG4GvB1lQw",
        "outputId": "3e684fd6-e61c-404a-996d-76b7ef60a0da"
      },
      "execution_count": 105,
      "outputs": [
        {
          "output_type": "execute_result",
          "data": {
            "text/plain": [
              "Text(0, 0.5, 'profit')"
            ]
          },
          "metadata": {},
          "execution_count": 105
        },
        {
          "output_type": "display_data",
          "data": {
            "text/plain": [
              "<Figure size 640x480 with 1 Axes>"
            ],
            "image/png": "[encoded data removed]"
          },
          "metadata": {}
        }
      ]
    },
    {
      "cell_type": "code",
      "source": [
        "mut_005=[]\n",
        "for i in range(0,1000):\n",
        "  bss=genetic_solution(pop_num=20,cap=170,profit=exprofit,weight=exweight,geneerations_num=100,muta_prob=0.05,elite_prob=0.33,for_comp_prob=0.2)\n",
        "  mut_005.append(knapsack_func_sign_extend(bss[0],170,exprofit,exweight))\n",
        "\n",
        "mut_010=[]\n",
        "for i in range(0,1000):\n",
        "  css=genetic_solution(pop_num=20,cap=170,profit=exprofit,weight=exweight,geneerations_num=100,muta_prob=0.1,elite_prob=0.33,for_comp_prob=0.2)\n",
        "  mut_010.append(knapsack_func_sign_extend(css[0],170,exprofit,exweight))\n",
        "\n",
        "mut_020=[]\n",
        "for i in range(0,1000):\n",
        "  dss=genetic_solution(pop_num=20,cap=170,profit=exprofit,weight=exweight,geneerations_num=100,muta_prob=0.2,elite_prob=0.33,for_comp_prob=0.2)\n",
        "  mut_020.append(knapsack_func_sign_extend(dss[0],170,exprofit,exweight))\n",
        "\n",
        "mut_040=[]\n",
        "for i in range(0,1000):\n",
        "  ess=genetic_solution(pop_num=20,cap=170,profit=exprofit,weight=exweight,geneerations_num=100,muta_prob=0.1,elite_prob=0.33,for_comp_prob=0.2)\n",
        "  mut_040.append(knapsack_func_sign_extend(ess[0],170,exprofit,exweight))\n",
        "\n",
        "\n",
        "\n"
      ],
      "metadata": {
        "id": "krxAPZ11hrEE"
      },
      "execution_count": 99,
      "outputs": []
    },
    {
      "cell_type": "code",
      "source": [
        "a_005=0\n",
        "a_010=0\n",
        "a_020=0\n",
        "a_040=0\n",
        "for i in range(0,len(mut_040)):\n",
        "  if mut_040[i]==1735:\n",
        "    a_040+=1\n",
        "  if mut_020[i]==1735:\n",
        "    a_020+=1\n",
        "  if mut_010[i]==1735:\n",
        "    a_010+=1\n",
        "  if mut_005[i]==1735:\n",
        "    a_005+=1\n",
        "print(a_005)\n",
        "print(a_010)\n",
        "print(a_020)\n",
        "print(a_040)"
      ],
      "metadata": {
        "colab": {
          "base_uri": "https://localhost:8080/"
        },
        "id": "M8Tlx5XVkbcQ",
        "outputId": "a2e36c7c-c080-4985-8cd8-7de063a6d96f"
      },
      "execution_count": 100,
      "outputs": [
        {
          "output_type": "stream",
          "name": "stdout",
          "text": [
            "659\n",
            "720\n",
            "878\n",
            "718\n"
          ]
        }
      ]
    }
  ]
}